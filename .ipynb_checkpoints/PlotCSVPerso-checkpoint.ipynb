{
 "cells": [
  {
   "cell_type": "code",
   "execution_count": 3,
   "metadata": {
    "collapsed": true
   },
   "outputs": [],
   "source": [
    "import pandas as pd\n",
    "import numpy as np\n",
    "import matplotlib.pyplot as plt\n",
    "from mpl_toolkits.mplot3d import Axes3D\n",
    "from sklearn import linear_model"
   ]
  },
  {
   "cell_type": "code",
   "execution_count": 4,
   "metadata": {
    "collapsed": true
   },
   "outputs": [],
   "source": [
    "def euclidDist(x1, x2, y1, y2):\n",
    "    return np.sqrt(np.square(x2-x1) + np.square(y2-y1))"
   ]
  },
  {
   "cell_type": "code",
   "execution_count": 5,
   "metadata": {
    "collapsed": true
   },
   "outputs": [],
   "source": [
    "def linearModel(data):\n",
    "    Xtrain1 = data['outputEvalNopolX'].values.reshape(data['outputEvalNopolX'].values.shape[0],1)\n",
    "    Xtrain2 = data['outputEvalNopolY'].values.reshape(data['outputEvalNopolY'].values.shape[0],1)\n",
    "    Ones = np.ones(Xtrain1.shape)\n",
    "    Xtrain = np.concatenate((Ones, Xtrain1, Xtrain2), axis=1)\n",
    "    Ytrain =  data['targetX'].values\n",
    "    \n",
    "    reg = linear_model.Ridge (alpha = 0.1)\n",
    "    reg.fit(Xtrain, Ytrain)\n",
    "    print(\"coeff: \", reg.coef_)\n",
    "    Ypredict = reg.predict(Xtrain)\n",
    "    print(\"MSE: \",np.sum(np.square(Ypredict-Ytrain))/Ytrain.shape[0])\n",
    "    \n",
    "    return reg"
   ]
  },
  {
   "cell_type": "code",
   "execution_count": 6,
   "metadata": {
    "collapsed": true
   },
   "outputs": [],
   "source": [
    "def poly2Model(data):\n",
    "    Xtrain1 = data['outputEvalNopolX'].values.reshape(data['outputEvalNopolX'].values.shape[0],1)\n",
    "    Xtrain2 = data['outputEvalNopolY'].values.reshape(data['outputEvalNopolY'].values.shape[0],1)\n",
    "    Ones = np.ones(Xtrain1.shape)\n",
    "\n",
    "    Xtrain = np.concatenate((Ones, Xtrain1, Xtrain2, Xtrain1*Xtrain1, Xtrain2*Xtrain2, Xtrain1*Xtrain2), axis=1)\n",
    "    Ytrain =  data['targetX'].values\n",
    "    \n",
    "    reg = linear_model.Ridge (alpha = 0.1)\n",
    "    reg.fit(Xtrain, Ytrain)\n",
    "    print(\"coeff: \", reg.coef_)\n",
    "    Ypredict = reg.predict(Xtrain)\n",
    "    print(\"MSE: \",np.sum(np.square(Ypredict-Ytrain))/Ytrain.shape[0])\n",
    "    \n",
    "    return reg"
   ]
  },
  {
   "cell_type": "code",
   "execution_count": 7,
   "metadata": {
    "collapsed": true
   },
   "outputs": [],
   "source": [
    "def poly22model(data):\n",
    "    Xtrain1 = data['outputEvalNopolX'].values.reshape(data['outputEvalNopolX'].values.shape[0],1)\n",
    "    Xtrain2 = data['outputEvalNopolY'].values.reshape(data['outputEvalNopolY'].values.shape[0],1)\n",
    "    Ones = np.ones(Xtrain1.shape)\n",
    "\n",
    "    Xtrain = np.concatenate((Ones, Xtrain1, Xtrain2, Xtrain1*Xtrain1, Xtrain2*Xtrain2, Xtrain1*Xtrain2, 1./Xtrain1, 1./Xtrain2, 1./Xtrain1/Xtrain1, 1./Xtrain2/Xtrain2, 1./Xtrain1/Xtrain2), axis=1)\n",
    "    Ytrain =  data['targetX'].values\n",
    "    \n",
    "    reg = linear_model.Ridge (alpha = 0.1)\n",
    "    reg.fit(Xtrain, Ytrain)\n",
    "    print(\"coeff: \", reg.coef_)\n",
    "    Ypredict = reg.predict(Xtrain)\n",
    "    print(\"MSE: \",np.sum(np.square(Ypredict-Ytrain))/Ytrain.shape[0])\n",
    "    \n",
    "    return reg"
   ]
  },
  {
   "cell_type": "code",
   "execution_count": 8,
   "metadata": {
    "collapsed": true
   },
   "outputs": [],
   "source": [
    "def polyNmodel(data, n):\n",
    "    Xtrain1 = data['outputEvalNopolX'].values.reshape(data['outputEvalNopolX'].values.shape[0],1)\n",
    "    Xtrain2 = data['outputEvalNopolY'].values.reshape(data['outputEvalNopolY'].values.shape[0],1)\n",
    "\n",
    "    Xtrain1 = (Xtrain1-np.mean(Xtrain1))/np.std(Xtrain1)\n",
    "    Xtrain2 = (Xtrain2-np.mean(Xtrain2))/np.std(Xtrain2)\n",
    "\n",
    "    \n",
    "    Ones = np.ones(Xtrain1.shape)\n",
    "\n",
    "    Xtrain = Ones\n",
    "    Ytrain =  data['targetX'].values\n",
    "    \n",
    "    for i in range(0,n+1):\n",
    "        for j in range(0,n+1):\n",
    "            if((i+j)<=n):\n",
    "                tmp = np.power(Xtrain1, i)*np.power(Xtrain2, j)\n",
    "                Xtrain = np.concatenate((Xtrain, tmp), axis=1)\n",
    "    \n",
    "    reg = linear_model.Ridge (alpha = 0.001)\n",
    "    reg.fit(Xtrain, Ytrain)\n",
    "    print(\"coeff: \", reg.coef_)\n",
    "    Ypredict = reg.predict(Xtrain)\n",
    "    print(\"MSE: \",np.sum(np.square(Ypredict-Ytrain))/Ytrain.shape[0])\n",
    "    \n",
    "    return reg"
   ]
  },
  {
   "cell_type": "code",
   "execution_count": 9,
   "metadata": {},
   "outputs": [
    {
     "data": {
      "text/plain": [
       "732"
      ]
     },
     "execution_count": 9,
     "metadata": {},
     "output_type": "execute_result"
    }
   ],
   "source": [
    "#dataRaw = pd.read_csv('calibTestOutputVincent_20170213_16h58.txt')\n",
    "#dataRaw = pd.read_csv('globalCalib.txt')\n",
    "dataRaw = pd.read_csv('calibTestOutputVincent_20180219_12h05.txt')\n",
    "\n",
    "len(dataRaw)"
   ]
  },
  {
   "cell_type": "code",
   "execution_count": 10,
   "metadata": {},
   "outputs": [
    {
     "data": {
      "text/html": [
       "<div>\n",
       "<style>\n",
       "    .dataframe thead tr:only-child th {\n",
       "        text-align: right;\n",
       "    }\n",
       "\n",
       "    .dataframe thead th {\n",
       "        text-align: left;\n",
       "    }\n",
       "\n",
       "    .dataframe tbody tr th {\n",
       "        vertical-align: top;\n",
       "    }\n",
       "</style>\n",
       "<table border=\"1\" class=\"dataframe\">\n",
       "  <thead>\n",
       "    <tr style=\"text-align: right;\">\n",
       "      <th></th>\n",
       "      <th>id</th>\n",
       "      <th>time</th>\n",
       "      <th>targetX</th>\n",
       "      <th>targetY</th>\n",
       "      <th>outputEvalX</th>\n",
       "      <th>outputEvalY</th>\n",
       "      <th>outputApplyX</th>\n",
       "      <th>outputApplyY</th>\n",
       "      <th>outputEvalNopolX</th>\n",
       "      <th>outputEvalNopolY</th>\n",
       "      <th>headX</th>\n",
       "      <th>headY</th>\n",
       "      <th>headZ</th>\n",
       "      <th>headi</th>\n",
       "      <th>headj</th>\n",
       "      <th>headk</th>\n",
       "      <th>headw</th>\n",
       "      <th>ellipseX</th>\n",
       "      <th>ellipseY</th>\n",
       "    </tr>\n",
       "  </thead>\n",
       "  <tbody>\n",
       "    <tr>\n",
       "      <th>0</th>\n",
       "      <td>0</td>\n",
       "      <td>131117</td>\n",
       "      <td>2.13450</td>\n",
       "      <td>-66.5423</td>\n",
       "      <td>-0.295808</td>\n",
       "      <td>-66.5075</td>\n",
       "      <td>1.593190e+35</td>\n",
       "      <td>1.67042</td>\n",
       "      <td>27.7456</td>\n",
       "      <td>-50.6746</td>\n",
       "      <td>17.9898</td>\n",
       "      <td>40.6967</td>\n",
       "      <td>81.5106</td>\n",
       "      <td>-0.042895</td>\n",
       "      <td>0.979354</td>\n",
       "      <td>0.197179</td>\n",
       "      <td>-0.012070</td>\n",
       "      <td>306.136</td>\n",
       "      <td>286.441</td>\n",
       "    </tr>\n",
       "    <tr>\n",
       "      <th>1</th>\n",
       "      <td>1</td>\n",
       "      <td>131156</td>\n",
       "      <td>2.16907</td>\n",
       "      <td>-65.9639</td>\n",
       "      <td>-0.295808</td>\n",
       "      <td>-66.5075</td>\n",
       "      <td>1.593190e+35</td>\n",
       "      <td>1.67042</td>\n",
       "      <td>27.7456</td>\n",
       "      <td>-50.6746</td>\n",
       "      <td>18.0249</td>\n",
       "      <td>40.7157</td>\n",
       "      <td>81.4923</td>\n",
       "      <td>-0.041368</td>\n",
       "      <td>0.979849</td>\n",
       "      <td>0.195078</td>\n",
       "      <td>-0.011348</td>\n",
       "      <td>306.136</td>\n",
       "      <td>286.441</td>\n",
       "    </tr>\n",
       "    <tr>\n",
       "      <th>2</th>\n",
       "      <td>2</td>\n",
       "      <td>131156</td>\n",
       "      <td>2.16907</td>\n",
       "      <td>-65.9639</td>\n",
       "      <td>-0.324559</td>\n",
       "      <td>-67.5172</td>\n",
       "      <td>1.593190e+35</td>\n",
       "      <td>1.67042</td>\n",
       "      <td>27.6666</td>\n",
       "      <td>-58.8872</td>\n",
       "      <td>18.0249</td>\n",
       "      <td>40.7157</td>\n",
       "      <td>81.4923</td>\n",
       "      <td>-0.041368</td>\n",
       "      <td>0.979849</td>\n",
       "      <td>0.195078</td>\n",
       "      <td>-0.011348</td>\n",
       "      <td>306.594</td>\n",
       "      <td>288.676</td>\n",
       "    </tr>\n",
       "    <tr>\n",
       "      <th>3</th>\n",
       "      <td>3</td>\n",
       "      <td>131166</td>\n",
       "      <td>2.16274</td>\n",
       "      <td>-65.7921</td>\n",
       "      <td>-0.324559</td>\n",
       "      <td>-67.5172</td>\n",
       "      <td>1.593190e+35</td>\n",
       "      <td>1.67042</td>\n",
       "      <td>27.6666</td>\n",
       "      <td>-58.8872</td>\n",
       "      <td>18.0341</td>\n",
       "      <td>40.7154</td>\n",
       "      <td>81.5070</td>\n",
       "      <td>-0.040695</td>\n",
       "      <td>0.979994</td>\n",
       "      <td>0.194504</td>\n",
       "      <td>-0.011104</td>\n",
       "      <td>306.594</td>\n",
       "      <td>288.676</td>\n",
       "    </tr>\n",
       "    <tr>\n",
       "      <th>4</th>\n",
       "      <td>4</td>\n",
       "      <td>131206</td>\n",
       "      <td>2.14298</td>\n",
       "      <td>-65.1829</td>\n",
       "      <td>-0.324559</td>\n",
       "      <td>-67.5172</td>\n",
       "      <td>1.593190e+35</td>\n",
       "      <td>1.67042</td>\n",
       "      <td>27.6666</td>\n",
       "      <td>-58.8872</td>\n",
       "      <td>18.0788</td>\n",
       "      <td>40.7079</td>\n",
       "      <td>81.6029</td>\n",
       "      <td>-0.040379</td>\n",
       "      <td>0.980397</td>\n",
       "      <td>0.192529</td>\n",
       "      <td>-0.011157</td>\n",
       "      <td>306.594</td>\n",
       "      <td>288.676</td>\n",
       "    </tr>\n",
       "    <tr>\n",
       "      <th>5</th>\n",
       "      <td>5</td>\n",
       "      <td>131206</td>\n",
       "      <td>2.14298</td>\n",
       "      <td>-65.1829</td>\n",
       "      <td>-0.166322</td>\n",
       "      <td>-67.5985</td>\n",
       "      <td>8.659360e-04</td>\n",
       "      <td>-67.55280</td>\n",
       "      <td>29.1549</td>\n",
       "      <td>-59.5835</td>\n",
       "      <td>18.0788</td>\n",
       "      <td>40.7079</td>\n",
       "      <td>81.6029</td>\n",
       "      <td>-0.040379</td>\n",
       "      <td>0.980397</td>\n",
       "      <td>0.192529</td>\n",
       "      <td>-0.011157</td>\n",
       "      <td>306.017</td>\n",
       "      <td>288.993</td>\n",
       "    </tr>\n",
       "    <tr>\n",
       "      <th>6</th>\n",
       "      <td>6</td>\n",
       "      <td>131216</td>\n",
       "      <td>2.23247</td>\n",
       "      <td>-65.6752</td>\n",
       "      <td>-0.166322</td>\n",
       "      <td>-67.5985</td>\n",
       "      <td>8.659360e-04</td>\n",
       "      <td>-67.55280</td>\n",
       "      <td>29.1549</td>\n",
       "      <td>-59.5835</td>\n",
       "      <td>18.0894</td>\n",
       "      <td>40.7026</td>\n",
       "      <td>81.5767</td>\n",
       "      <td>-0.040076</td>\n",
       "      <td>0.980069</td>\n",
       "      <td>0.194271</td>\n",
       "      <td>-0.010834</td>\n",
       "      <td>306.017</td>\n",
       "      <td>288.993</td>\n",
       "    </tr>\n",
       "    <tr>\n",
       "      <th>7</th>\n",
       "      <td>7</td>\n",
       "      <td>131240</td>\n",
       "      <td>2.26788</td>\n",
       "      <td>-65.4784</td>\n",
       "      <td>-0.324109</td>\n",
       "      <td>-67.6055</td>\n",
       "      <td>-1.639020e-01</td>\n",
       "      <td>-67.55980</td>\n",
       "      <td>27.6873</td>\n",
       "      <td>-59.6064</td>\n",
       "      <td>18.1058</td>\n",
       "      <td>40.6950</td>\n",
       "      <td>81.5791</td>\n",
       "      <td>-0.039575</td>\n",
       "      <td>0.980217</td>\n",
       "      <td>0.193646</td>\n",
       "      <td>-0.010515</td>\n",
       "      <td>306.778</td>\n",
       "      <td>289.033</td>\n",
       "    </tr>\n",
       "    <tr>\n",
       "      <th>8</th>\n",
       "      <td>8</td>\n",
       "      <td>131256</td>\n",
       "      <td>2.31449</td>\n",
       "      <td>-65.2745</td>\n",
       "      <td>-0.324109</td>\n",
       "      <td>-67.6055</td>\n",
       "      <td>-1.639020e-01</td>\n",
       "      <td>-67.55980</td>\n",
       "      <td>27.6873</td>\n",
       "      <td>-59.6064</td>\n",
       "      <td>18.1304</td>\n",
       "      <td>40.6836</td>\n",
       "      <td>81.5826</td>\n",
       "      <td>-0.039075</td>\n",
       "      <td>0.980363</td>\n",
       "      <td>0.193021</td>\n",
       "      <td>-0.010196</td>\n",
       "      <td>306.778</td>\n",
       "      <td>289.033</td>\n",
       "    </tr>\n",
       "    <tr>\n",
       "      <th>9</th>\n",
       "      <td>9</td>\n",
       "      <td>131266</td>\n",
       "      <td>2.58657</td>\n",
       "      <td>-64.8049</td>\n",
       "      <td>-0.324109</td>\n",
       "      <td>-67.6055</td>\n",
       "      <td>-1.639020e-01</td>\n",
       "      <td>-67.55980</td>\n",
       "      <td>27.6873</td>\n",
       "      <td>-59.6064</td>\n",
       "      <td>18.1398</td>\n",
       "      <td>40.6801</td>\n",
       "      <td>81.5853</td>\n",
       "      <td>-0.038758</td>\n",
       "      <td>0.980698</td>\n",
       "      <td>0.191449</td>\n",
       "      <td>-0.008761</td>\n",
       "      <td>306.778</td>\n",
       "      <td>289.033</td>\n",
       "    </tr>\n",
       "  </tbody>\n",
       "</table>\n",
       "</div>"
      ],
      "text/plain": [
       "   id    time  targetX  targetY  outputEvalX  outputEvalY  outputApplyX  \\\n",
       "0   0  131117  2.13450 -66.5423    -0.295808     -66.5075  1.593190e+35   \n",
       "1   1  131156  2.16907 -65.9639    -0.295808     -66.5075  1.593190e+35   \n",
       "2   2  131156  2.16907 -65.9639    -0.324559     -67.5172  1.593190e+35   \n",
       "3   3  131166  2.16274 -65.7921    -0.324559     -67.5172  1.593190e+35   \n",
       "4   4  131206  2.14298 -65.1829    -0.324559     -67.5172  1.593190e+35   \n",
       "5   5  131206  2.14298 -65.1829    -0.166322     -67.5985  8.659360e-04   \n",
       "6   6  131216  2.23247 -65.6752    -0.166322     -67.5985  8.659360e-04   \n",
       "7   7  131240  2.26788 -65.4784    -0.324109     -67.6055 -1.639020e-01   \n",
       "8   8  131256  2.31449 -65.2745    -0.324109     -67.6055 -1.639020e-01   \n",
       "9   9  131266  2.58657 -64.8049    -0.324109     -67.6055 -1.639020e-01   \n",
       "\n",
       "   outputApplyY  outputEvalNopolX  outputEvalNopolY    headX    headY  \\\n",
       "0       1.67042           27.7456          -50.6746  17.9898  40.6967   \n",
       "1       1.67042           27.7456          -50.6746  18.0249  40.7157   \n",
       "2       1.67042           27.6666          -58.8872  18.0249  40.7157   \n",
       "3       1.67042           27.6666          -58.8872  18.0341  40.7154   \n",
       "4       1.67042           27.6666          -58.8872  18.0788  40.7079   \n",
       "5     -67.55280           29.1549          -59.5835  18.0788  40.7079   \n",
       "6     -67.55280           29.1549          -59.5835  18.0894  40.7026   \n",
       "7     -67.55980           27.6873          -59.6064  18.1058  40.6950   \n",
       "8     -67.55980           27.6873          -59.6064  18.1304  40.6836   \n",
       "9     -67.55980           27.6873          -59.6064  18.1398  40.6801   \n",
       "\n",
       "     headZ     headi     headj     headk     headw  ellipseX  ellipseY  \n",
       "0  81.5106 -0.042895  0.979354  0.197179 -0.012070   306.136   286.441  \n",
       "1  81.4923 -0.041368  0.979849  0.195078 -0.011348   306.136   286.441  \n",
       "2  81.4923 -0.041368  0.979849  0.195078 -0.011348   306.594   288.676  \n",
       "3  81.5070 -0.040695  0.979994  0.194504 -0.011104   306.594   288.676  \n",
       "4  81.6029 -0.040379  0.980397  0.192529 -0.011157   306.594   288.676  \n",
       "5  81.6029 -0.040379  0.980397  0.192529 -0.011157   306.017   288.993  \n",
       "6  81.5767 -0.040076  0.980069  0.194271 -0.010834   306.017   288.993  \n",
       "7  81.5791 -0.039575  0.980217  0.193646 -0.010515   306.778   289.033  \n",
       "8  81.5826 -0.039075  0.980363  0.193021 -0.010196   306.778   289.033  \n",
       "9  81.5853 -0.038758  0.980698  0.191449 -0.008761   306.778   289.033  "
      ]
     },
     "execution_count": 10,
     "metadata": {},
     "output_type": "execute_result"
    }
   ],
   "source": [
    "dataRaw[:10]"
   ]
  },
  {
   "cell_type": "code",
   "execution_count": 11,
   "metadata": {
    "collapsed": true
   },
   "outputs": [],
   "source": [
    "data = dataRaw[5:]"
   ]
  },
  {
   "cell_type": "code",
   "execution_count": 12,
   "metadata": {
    "scrolled": true
   },
   "outputs": [
    {
     "data": {
      "image/png": "[encoded data removed]",
      "text/plain": [
       "<matplotlib.figure.Figure at 0x17bbbe48be0>"
      ]
     },
     "metadata": {},
     "output_type": "display_data"
    }
   ],
   "source": [
    "%matplotlib inline\n",
    "plt.plot(data['outputEvalX'], data['outputEvalY'], 'o')\n",
    "plt.show()"
   ]
  },
  {
   "cell_type": "code",
   "execution_count": 13,
   "metadata": {},
   "outputs": [
    {
     "data": {
      "image/png": "[encoded data removed]",
      "text/plain": [
       "<matplotlib.figure.Figure at 0x17bbc1dce80>"
      ]
     },
     "metadata": {},
     "output_type": "display_data"
    }
   ],
   "source": [
    "plt.plot(data['outputApplyX'], data['outputApplyY'], 'o')\n",
    "plt.show()"
   ]
  },
  {
   "cell_type": "code",
   "execution_count": 14,
   "metadata": {},
   "outputs": [
    {
     "data": {
      "image/png": "[encoded data removed]",
      "text/plain": [
       "<matplotlib.figure.Figure at 0x17bb830a630>"
      ]
     },
     "metadata": {},
     "output_type": "display_data"
    }
   ],
   "source": [
    "plt.plot(data['outputEvalNopolX'], data['outputEvalNopolY'],'o')\n",
    "plt.show()"
   ]
  },
  {
   "cell_type": "code",
   "execution_count": 15,
   "metadata": {},
   "outputs": [
    {
     "data": {
      "image/png": "[encoded data removed]",
      "text/plain": [
       "<matplotlib.figure.Figure at 0x17bbc5c62e8>"
      ]
     },
     "metadata": {},
     "output_type": "display_data"
    }
   ],
   "source": [
    "plt.plot(data['targetX'], data['targetY'], 'o')\n",
    "#plt.plot(data['outputEvalNopolX'], data['outputEvalNopolY'],'x')\n",
    "plt.show()"
   ]
  },
  {
   "cell_type": "code",
   "execution_count": 80,
   "metadata": {},
   "outputs": [
    {
     "name": "stdout",
     "output_type": "stream",
     "text": [
      "MSE on X rigig transfo fit:  0.8870052752160728\n",
      "MSE on X poly fit:  0.9686532498643443\n",
      "MSE on y rigig transfo fit:  1.4358590247831613\n",
      "MSE on y poly fit:  1.577576346557701\n"
     ]
    }
   ],
   "source": [
    "MSErigidx = np.mean(np.square(data['outputApplyX']-data['targetX']))\n",
    "MSErigidy = np.mean(np.square(data['outputApplyY']-data['targetY']))\n",
    "MSEpolyx = np.mean(np.square(data['outputEvalX']-data['targetX']))\n",
    "MSEpolyy = np.mean(np.square(data['outputEvalY']-data['targetY']))\n",
    "\n",
    "print('MSE on X rigig transfo fit: ', MSErigidx)\n",
    "print('MSE on X poly fit: ', MSEpolyx)\n",
    "\n",
    "print('MSE on y rigig transfo fit: ', MSErigidy)\n",
    "print('MSE on y poly fit: ', MSEpolyy)"
   ]
  },
  {
   "cell_type": "code",
   "execution_count": 81,
   "metadata": {
    "collapsed": true
   },
   "outputs": [],
   "source": [
    "distNoPol = euclidDist(data['targetX'], data['outputEvalNopolX'], data['targetY'], data['outputEvalNopolY'])\n",
    "distPol = euclidDist(data['targetX'], data['outputEvalX'], data['targetY'], data['outputEvalY'])"
   ]
  },
  {
   "cell_type": "code",
   "execution_count": 82,
   "metadata": {},
   "outputs": [
    {
     "data": {
      "image/png": "[encoded data removed]",
      "text/plain": [
       "<matplotlib.figure.Figure at 0x1464b2924a8>"
      ]
     },
     "metadata": {},
     "output_type": "display_data"
    }
   ],
   "source": [
    "plt.hist(distNoPol,20)\n",
    "plt.hist(distPol,20)\n",
    "plt.show()"
   ]
  },
  {
   "cell_type": "code",
   "execution_count": null,
   "metadata": {
    "collapsed": true
   },
   "outputs": [],
   "source": [
    "distX = data['targetX']-data['outputEvalNopolX']\n",
    "distY = data['targetY']-data['outputEvalNopolY']\n",
    "print('distX mean: ', distX.mean(), ' distX stdev: ', distX.std())\n",
    "print('distY mean: ', distY.mean(), ' distY stdev: ', distY.std())\n",
    "plt.hist(distX,20, histtype='step')\n",
    "plt.hist(distY,20, histtype='step')\n",
    "plt.show()"
   ]
  },
  {
   "cell_type": "code",
   "execution_count": null,
   "metadata": {
    "collapsed": true
   },
   "outputs": [],
   "source": [
    "plt.hist(data['outputEvalNopolX'])\n",
    "plt.show()"
   ]
  },
  {
   "cell_type": "code",
   "execution_count": null,
   "metadata": {
    "collapsed": true
   },
   "outputs": [],
   "source": [
    "%matplotlib notebook\n",
    "fig = plt.figure()\n",
    "ax = fig.add_subplot(111, projection='3d')\n",
    "X1 = (data['outputEvalNopolX'] - np.mean(data['outputEvalNopolX']))/np.std(data['outputEvalNopolX'])\n",
    "X2 = (data['outputEvalNopolY'] - np.mean(data['outputEvalNopolY']))/np.std(data['outputEvalNopolY'])\n",
    "\n",
    "#ax.scatter(data['outputEvalNopolX'], data['outputEvalNopolY'], data['targetX'], c='r', marker='o')\n",
    "ax.scatter(X1, X2, data['targetX'], c='r', marker='o')\n",
    "ax.set_xlabel('outputEvalNopolX')\n",
    "ax.set_ylabel('outputEvalNopolY')\n",
    "ax.set_zlabel('target X')\n",
    "plt.show()"
   ]
  },
  {
   "cell_type": "code",
   "execution_count": null,
   "metadata": {
    "collapsed": true
   },
   "outputs": [],
   "source": [
    "fig = plt.figure()\n",
    "ax = fig.add_subplot(111, projection='3d')\n",
    "ax.scatter(data['outputEvalNopolX'], data['outputEvalNopolY'], data['targetY'], c='r', marker='x')\n",
    "ax.set_xlabel('outputEvalNopolX')\n",
    "ax.set_ylabel('outputEvalNopolY')\n",
    "ax.set_zlabel('target Y')\n",
    "plt.show()"
   ]
  },
  {
   "cell_type": "code",
   "execution_count": null,
   "metadata": {
    "collapsed": true
   },
   "outputs": [],
   "source": [
    "Xtrain1 = data['outputEvalNopolX'].values.reshape(data['outputEvalNopolX'].values.shape[0],1)\n",
    "Xtrain2 = data['outputEvalNopolY'].values.reshape(data['outputEvalNopolY'].values.shape[0],1)\n",
    "print(Xtrain1.shape)\n",
    "print(Xtrain2.shape)\n",
    "Xtrain = np.concatenate((Xtrain1, Xtrain2), axis=1)\n",
    "print(Xtrain.shape)\n",
    "Ytrain =  data['targetX'].values"
   ]
  },
  {
   "cell_type": "code",
   "execution_count": null,
   "metadata": {
    "collapsed": true,
    "scrolled": true
   },
   "outputs": [],
   "source": [
    "linearModel(data)"
   ]
  },
  {
   "cell_type": "code",
   "execution_count": null,
   "metadata": {
    "collapsed": true
   },
   "outputs": [],
   "source": [
    "poly2Model(data)"
   ]
  },
  {
   "cell_type": "code",
   "execution_count": null,
   "metadata": {
    "collapsed": true
   },
   "outputs": [],
   "source": [
    "poly22model(data)"
   ]
  },
  {
   "cell_type": "code",
   "execution_count": null,
   "metadata": {
    "collapsed": true
   },
   "outputs": [],
   "source": [
    "polyNmodel(data, 5)"
   ]
  },
  {
   "cell_type": "code",
   "execution_count": null,
   "metadata": {
    "collapsed": true
   },
   "outputs": [],
   "source": [
    "from sklearn.neural_network import MLPRegressor\n",
    "\n",
    "def mlpModel(data):\n",
    "    Xtrain1 = data['outputEvalNopolX'].values.reshape(data['outputEvalNopolX'].values.shape[0],1)\n",
    "    Xtrain2 = data['outputEvalNopolY'].values.reshape(data['outputEvalNopolY'].values.shape[0],1)\n",
    "    \n",
    "#    Xtrain1 = (Xtrain1-np.mean(Xtrain1))/np.std(Xtrain1)\n",
    "#    Xtrain2 = (Xtrain2-np.mean(Xtrain2))/np.std(Xtrain2)\n",
    "\n",
    "    Xtrain = np.concatenate((Xtrain1, Xtrain2), axis=1)\n",
    "    \n",
    "    Ytrain =  data['targetX'].values\n",
    "\n",
    "    mlpreg = MLPRegressor(hidden_layer_sizes=(10, 10, 10, 10, 10, 10), batch_size=Xtrain1.shape[0], alpha=0, learning_rate_init=0.0001, max_iter=10000)\n",
    "    mlpreg.fit(Xtrain, Ytrain)\n",
    "\n",
    "    Ypredict = mlpreg.predict(Xtrain)\n",
    "    print(\"MSE: \",np.sum(np.square(Ypredict-Ytrain))/Ytrain.shape[0])\n",
    "\n",
    "    "
   ]
  },
  {
   "cell_type": "code",
   "execution_count": null,
   "metadata": {
    "collapsed": true
   },
   "outputs": [],
   "source": [
    "mlpModel(data)"
   ]
  },
  {
   "cell_type": "code",
   "execution_count": null,
   "metadata": {
    "collapsed": true
   },
   "outputs": [],
   "source": []
  }
 ],
 "metadata": {
  "kernelspec": {
   "display_name": "Python 3",
   "language": "python",
   "name": "python3"
  },
  "language_info": {
   "codemirror_mode": {
    "name": "ipython",
    "version": 3
   },
   "file_extension": ".py",
   "mimetype": "text/x-python",
   "name": "python",
   "nbconvert_exporter": "python",
   "pygments_lexer": "ipython3",
   "version": "3.6.3"
  }
 },
 "nbformat": 4,
 "nbformat_minor": 2
}
