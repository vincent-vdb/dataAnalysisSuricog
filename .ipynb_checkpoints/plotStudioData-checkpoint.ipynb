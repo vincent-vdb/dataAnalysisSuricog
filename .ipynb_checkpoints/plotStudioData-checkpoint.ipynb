{
 "cells": [
  {
   "cell_type": "code",
   "execution_count": 7,
   "metadata": {
    "collapsed": true
   },
   "outputs": [],
   "source": [
    "import pandas as pd\n",
    "import matplotlib.pyplot as plt"
   ]
  },
  {
   "cell_type": "code",
   "execution_count": 32,
   "metadata": {
    "collapsed": true
   },
   "outputs": [],
   "source": [
    "data = pd.read_csv('testsavedataset_calibLike.csv')"
   ]
  },
  {
   "cell_type": "code",
   "execution_count": 33,
   "metadata": {
    "collapsed": true
   },
   "outputs": [],
   "source": [
    "xeye = data['Right Eye Position (x']\n",
    "yeye = data['y']\n",
    "xhead = data['Head Position (x']\n",
    "yhead = data['y.2']"
   ]
  },
  {
   "cell_type": "code",
   "execution_count": 29,
   "metadata": {},
   "outputs": [
    {
     "data": {
      "text/html": [
       "<div>\n",
       "<style>\n",
       "    .dataframe thead tr:only-child th {\n",
       "        text-align: right;\n",
       "    }\n",
       "\n",
       "    .dataframe thead th {\n",
       "        text-align: left;\n",
       "    }\n",
       "\n",
       "    .dataframe tbody tr th {\n",
       "        vertical-align: top;\n",
       "    }\n",
       "</style>\n",
       "<table border=\"1\" class=\"dataframe\">\n",
       "  <thead>\n",
       "    <tr style=\"text-align: right;\">\n",
       "      <th></th>\n",
       "      <th>Right Eye Position (x</th>\n",
       "      <th>y</th>\n",
       "      <th>z)</th>\n",
       "      <th>Right Eye Forward Vector (x</th>\n",
       "      <th>y.1</th>\n",
       "      <th>z).1</th>\n",
       "      <th>Head Position (x</th>\n",
       "      <th>y.2</th>\n",
       "      <th>z).2</th>\n",
       "      <th>Head Rotation axis (x</th>\n",
       "      <th>...</th>\n",
       "      <th>z).3</th>\n",
       "      <th>Head Rotation angle</th>\n",
       "      <th>Relative intersection (x</th>\n",
       "      <th>y.4</th>\n",
       "      <th>z)</th>\n",
       "      <th>Absolute intersection (x</th>\n",
       "      <th>y.5</th>\n",
       "      <th>z) .1</th>\n",
       "      <th>Interacted Object ID</th>\n",
       "      <th>timeStamp in ms</th>\n",
       "    </tr>\n",
       "  </thead>\n",
       "  <tbody>\n",
       "    <tr>\n",
       "      <th>0</th>\n",
       "      <td>3.01953</td>\n",
       "      <td>-1.86570</td>\n",
       "      <td>-2.22781</td>\n",
       "      <td>-0.385170</td>\n",
       "      <td>-0.079731</td>\n",
       "      <td>0.919395</td>\n",
       "      <td>27.0184</td>\n",
       "      <td>22.1002</td>\n",
       "      <td>70.0639</td>\n",
       "      <td>0.018698</td>\n",
       "      <td>...</td>\n",
       "      <td>0.012966</td>\n",
       "      <td>166.208</td>\n",
       "      <td>1816.16</td>\n",
       "      <td>513.374</td>\n",
       "      <td>0</td>\n",
       "      <td>44.5379</td>\n",
       "      <td>13.8955</td>\n",
       "      <td>0.0</td>\n",
       "      <td>0</td>\n",
       "      <td>12900</td>\n",
       "    </tr>\n",
       "    <tr>\n",
       "      <th>1</th>\n",
       "      <td>3.02578</td>\n",
       "      <td>-1.86398</td>\n",
       "      <td>-2.22508</td>\n",
       "      <td>-0.375692</td>\n",
       "      <td>-0.077125</td>\n",
       "      <td>0.923530</td>\n",
       "      <td>27.0328</td>\n",
       "      <td>22.0806</td>\n",
       "      <td>70.2123</td>\n",
       "      <td>0.016834</td>\n",
       "      <td>...</td>\n",
       "      <td>0.021511</td>\n",
       "      <td>167.419</td>\n",
       "      <td>1816.16</td>\n",
       "      <td>513.374</td>\n",
       "      <td>0</td>\n",
       "      <td>44.5379</td>\n",
       "      <td>13.8955</td>\n",
       "      <td>0.0</td>\n",
       "      <td>0</td>\n",
       "      <td>12933</td>\n",
       "    </tr>\n",
       "    <tr>\n",
       "      <th>2</th>\n",
       "      <td>3.03234</td>\n",
       "      <td>-1.86396</td>\n",
       "      <td>-2.22245</td>\n",
       "      <td>-0.365755</td>\n",
       "      <td>-0.077096</td>\n",
       "      <td>0.927513</td>\n",
       "      <td>27.1416</td>\n",
       "      <td>22.0819</td>\n",
       "      <td>70.0958</td>\n",
       "      <td>0.017034</td>\n",
       "      <td>...</td>\n",
       "      <td>0.018631</td>\n",
       "      <td>166.853</td>\n",
       "      <td>1816.16</td>\n",
       "      <td>513.374</td>\n",
       "      <td>0</td>\n",
       "      <td>44.5379</td>\n",
       "      <td>13.8955</td>\n",
       "      <td>0.0</td>\n",
       "      <td>0</td>\n",
       "      <td>12950</td>\n",
       "    </tr>\n",
       "    <tr>\n",
       "      <th>3</th>\n",
       "      <td>3.03741</td>\n",
       "      <td>-1.86362</td>\n",
       "      <td>-2.22045</td>\n",
       "      <td>-0.358078</td>\n",
       "      <td>-0.076568</td>\n",
       "      <td>0.930547</td>\n",
       "      <td>27.2141</td>\n",
       "      <td>22.0867</td>\n",
       "      <td>70.0973</td>\n",
       "      <td>0.019483</td>\n",
       "      <td>...</td>\n",
       "      <td>0.015557</td>\n",
       "      <td>165.865</td>\n",
       "      <td>1816.16</td>\n",
       "      <td>513.374</td>\n",
       "      <td>0</td>\n",
       "      <td>44.5379</td>\n",
       "      <td>13.8955</td>\n",
       "      <td>0.0</td>\n",
       "      <td>0</td>\n",
       "      <td>13000</td>\n",
       "    </tr>\n",
       "    <tr>\n",
       "      <th>4</th>\n",
       "      <td>3.04012</td>\n",
       "      <td>-1.86271</td>\n",
       "      <td>-2.21934</td>\n",
       "      <td>-0.353967</td>\n",
       "      <td>-0.075194</td>\n",
       "      <td>0.932230</td>\n",
       "      <td>27.2652</td>\n",
       "      <td>22.0462</td>\n",
       "      <td>70.3416</td>\n",
       "      <td>0.018860</td>\n",
       "      <td>...</td>\n",
       "      <td>0.021311</td>\n",
       "      <td>166.477</td>\n",
       "      <td>1816.16</td>\n",
       "      <td>513.374</td>\n",
       "      <td>0</td>\n",
       "      <td>44.5379</td>\n",
       "      <td>13.8955</td>\n",
       "      <td>0.0</td>\n",
       "      <td>0</td>\n",
       "      <td>13016</td>\n",
       "    </tr>\n",
       "  </tbody>\n",
       "</table>\n",
       "<p>5 rows × 21 columns</p>\n",
       "</div>"
      ],
      "text/plain": [
       "   Right Eye Position (x        y       z)  Right Eye Forward Vector (x  \\\n",
       "0                3.01953 -1.86570 -2.22781                    -0.385170   \n",
       "1                3.02578 -1.86398 -2.22508                    -0.375692   \n",
       "2                3.03234 -1.86396 -2.22245                    -0.365755   \n",
       "3                3.03741 -1.86362 -2.22045                    -0.358078   \n",
       "4                3.04012 -1.86271 -2.21934                    -0.353967   \n",
       "\n",
       "        y.1      z).1  Head Position (x      y.2     z).2  \\\n",
       "0 -0.079731  0.919395           27.0184  22.1002  70.0639   \n",
       "1 -0.077125  0.923530           27.0328  22.0806  70.2123   \n",
       "2 -0.077096  0.927513           27.1416  22.0819  70.0958   \n",
       "3 -0.076568  0.930547           27.2141  22.0867  70.0973   \n",
       "4 -0.075194  0.932230           27.2652  22.0462  70.3416   \n",
       "\n",
       "   Head Rotation axis (x       ...             z).3  Head Rotation angle   \\\n",
       "0               0.018698       ...         0.012966               166.208   \n",
       "1               0.016834       ...         0.021511               167.419   \n",
       "2               0.017034       ...         0.018631               166.853   \n",
       "3               0.019483       ...         0.015557               165.865   \n",
       "4               0.018860       ...         0.021311               166.477   \n",
       "\n",
       "   Relative intersection (x      y.4  z)   Absolute intersection (x      y.5  \\\n",
       "0                   1816.16  513.374    0                   44.5379  13.8955   \n",
       "1                   1816.16  513.374    0                   44.5379  13.8955   \n",
       "2                   1816.16  513.374    0                   44.5379  13.8955   \n",
       "3                   1816.16  513.374    0                   44.5379  13.8955   \n",
       "4                   1816.16  513.374    0                   44.5379  13.8955   \n",
       "\n",
       "   z) .1  Interacted Object ID  timeStamp in ms  \n",
       "0    0.0                     0            12900  \n",
       "1    0.0                     0            12933  \n",
       "2    0.0                     0            12950  \n",
       "3    0.0                     0            13000  \n",
       "4    0.0                     0            13016  \n",
       "\n",
       "[5 rows x 21 columns]"
      ]
     },
     "execution_count": 29,
     "metadata": {},
     "output_type": "execute_result"
    }
   ],
   "source": [
    "data[:5]"
   ]
  },
  {
   "cell_type": "code",
   "execution_count": 34,
   "metadata": {},
   "outputs": [
    {
     "data": {
      "image/png": "[encoded data removed]",
      "text/plain": [
       "<matplotlib.figure.Figure at 0x206facf2b70>"
      ]
     },
     "metadata": {},
     "output_type": "display_data"
    }
   ],
   "source": [
    "plt.plot(xeye, yeye, '+')\n",
    "plt.show()"
   ]
  },
  {
   "cell_type": "code",
   "execution_count": 35,
   "metadata": {},
   "outputs": [
    {
     "data": {
      "image/png": "[encoded data removed]",
      "text/plain": [
       "<matplotlib.figure.Figure at 0x206fad885f8>"
      ]
     },
     "metadata": {},
     "output_type": "display_data"
    }
   ],
   "source": [
    "plt.plot(xhead, yhead, '+')\n",
    "plt.show()"
   ]
  },
  {
   "cell_type": "code",
   "execution_count": 36,
   "metadata": {},
   "outputs": [
    {
     "data": {
      "image/png": "[encoded data removed]",
      "text/plain": [
       "<matplotlib.figure.Figure at 0x206fad8f6a0>"
      ]
     },
     "metadata": {},
     "output_type": "display_data"
    }
   ],
   "source": [
    "plt.plot(data['z).2'])\n",
    "plt.show()"
   ]
  },
  {
   "cell_type": "code",
   "execution_count": null,
   "metadata": {
    "collapsed": true
   },
   "outputs": [],
   "source": []
  }
 ],
 "metadata": {
  "kernelspec": {
   "display_name": "Python 3",
   "language": "python",
   "name": "python3"
  },
  "language_info": {
   "codemirror_mode": {
    "name": "ipython",
    "version": 3
   },
   "file_extension": ".py",
   "mimetype": "text/x-python",
   "name": "python",
   "nbconvert_exporter": "python",
   "pygments_lexer": "ipython3",
   "version": "3.6.3"
  }
 },
 "nbformat": 4,
 "nbformat_minor": 2
}
