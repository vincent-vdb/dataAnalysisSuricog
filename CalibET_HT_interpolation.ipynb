{
 "cells": [
  {
   "cell_type": "code",
   "execution_count": null,
   "metadata": {},
   "outputs": [],
   "source": [
    "import pandas as pd\n",
    "import numpy as np\n",
    "import matplotlib.pyplot as plt\n",
    "from mpl_toolkits.mplot3d import Axes3D\n",
    "\n",
    "from scipy.optimize import curve_fit\n",
    "\n",
    "%matplotlib inline\n",
    "#%matplotlib notebook"
   ]
  },
  {
   "cell_type": "code",
   "execution_count": null,
   "metadata": {},
   "outputs": [],
   "source": [
    "data = pd.read_csv('calibDataOutput78111_fixedQuatInterp.txt')\n",
    "\n",
    "len(data)"
   ]
  },
  {
   "cell_type": "code",
   "execution_count": null,
   "metadata": {},
   "outputs": [],
   "source": [
    "data# = data[:100]\n",
    "data[:5]"
   ]
  },
  {
   "cell_type": "code",
   "execution_count": null,
   "metadata": {},
   "outputs": [],
   "source": [
    "plt.plot(data['targetX'], data['targetY'], 'o')\n",
    "plt.plot(data['outputEvalX'], data['outputEvalY'],'x')\n",
    "plt.show()"
   ]
  },
  {
   "cell_type": "code",
   "execution_count": null,
   "metadata": {},
   "outputs": [],
   "source": [
    "dataQual5 = data[data.quality >= 5]\n",
    "dataQual8 = data[data.quality >= 8]\n",
    "dataBad = data[data.quality < 4]\n",
    "\n",
    "# Get data with interpolation only\n",
    "dataInterp = data[data.quality < 8]\n",
    "dataInterp = dataInterp[dataInterp.quality > 1]\n",
    "print(len(dataInterp))\n",
    "#data = dataInterp"
   ]
  },
  {
   "cell_type": "code",
   "execution_count": null,
   "metadata": {},
   "outputs": [],
   "source": [
    "plt.scatter(data['time'], data['quality'])\n",
    "plt.show()"
   ]
  },
  {
   "cell_type": "code",
   "execution_count": null,
   "metadata": {},
   "outputs": [],
   "source": [
    "# Three subplots sharing both x/y axes\n",
    "f, (ax1, ax2, ax3) = plt.subplots(3, sharex=True, sharey=False)\n",
    "ax1.scatter(data['time'], data['headX'])\n",
    "ax1.set_ylabel('headX')\n",
    "ax2.scatter(data['time'], data['headY'])\n",
    "ax2.set_ylabel('headY')\n",
    "ax3.scatter(data['time'], data['headZ'])\n",
    "ax3.set_ylabel('headZ')\n",
    "\n",
    "ax3.set_xlabel('time stamp')\n",
    "\n",
    "#f.subplots_adjust(hspace=0)\n",
    "#plt.setp([a.get_xticklabels() for a in f.axes[:-1]], visible=False)\n",
    "\n",
    "plt.show()"
   ]
  },
  {
   "cell_type": "code",
   "execution_count": null,
   "metadata": {},
   "outputs": [],
   "source": [
    "# Three subplots sharing both x/y axes\n",
    "f, (ax1, ax2, ax3, ax4) = plt.subplots(4, sharex=True, sharey=False)\n",
    "ax1.scatter(data['time'], data['headi'])\n",
    "ax1.set_ylabel('headi')\n",
    "ax2.scatter(data['time'], data['headj'])\n",
    "ax2.set_ylabel('headj')\n",
    "ax3.scatter(data['time'], data['headk'])\n",
    "ax3.set_ylabel('headk')\n",
    "ax4.scatter(data['time'], data['headw'])\n",
    "ax4.set_ylabel('headw')\n",
    "ax4.set_xlabel('time stamp')\n",
    "\n",
    "plt.show()"
   ]
  },
  {
   "cell_type": "code",
   "execution_count": null,
   "metadata": {},
   "outputs": [],
   "source": [
    "f, (ax1, ax2, ax3, ax4, ax5) = plt.subplots(5, sharex=True, sharey=False)\n",
    "ax1.scatter(data['time'], data['ETx'])\n",
    "ax1.set_ylabel('ETx')\n",
    "ax2.scatter(data['time'], data['ETy'])\n",
    "ax2.set_ylabel('ETy')\n",
    "ax3.scatter(data['time'], data['ETrmin'])\n",
    "ax3.set_ylabel('ETrmin')\n",
    "ax4.scatter(data['time'], data['ETrmax'])\n",
    "ax4.set_ylabel('ETrmax')\n",
    "ax5.scatter(data['time'], data['ETphi'])\n",
    "ax5.set_ylabel('ETphi')\n",
    "ax5.set_xlabel('time stamp')\n",
    "\n",
    "plt.show()"
   ]
  },
  {
   "cell_type": "code",
   "execution_count": null,
   "metadata": {},
   "outputs": [],
   "source": [
    "f, (ax1, ax2) = plt.subplots(2, sharex=True, sharey=False)\n",
    "ax1.scatter(data['time'], data['targetX'])\n",
    "ax1.set_ylabel('targetX')\n",
    "ax2.scatter(data['time'], data['targetY'])\n",
    "ax2.set_ylabel('targetY')\n",
    "\n",
    "ax5.set_xlabel('time stamp')\n",
    "\n",
    "plt.show()"
   ]
  },
  {
   "cell_type": "code",
   "execution_count": null,
   "metadata": {},
   "outputs": [],
   "source": [
    "def mycosinus(time, amp, theta, phi, offset):\n",
    "    return amp*np.sin(time*theta+phi)+offset\n",
    "\n",
    "#init_vals = [17, 0.002, 0, -2] #for TargetX\n",
    "init_vals = [0.1, 0.002, 0, 0] #for headk\n",
    "bestValsX, covar = curve_fit(mycosinus, data['time'], data['headk'], p0=init_vals)\n",
    "\n",
    "print(\"coefs after fit on headk = f(time):\", bestValsX)\n",
    "\n",
    "plt.plot(data['time'], mycosinus(data['time'], *bestValsX), 'x')\n",
    "plt.plot(data['time'], data['headk'], 'o')\n",
    "plt.show()"
   ]
  },
  {
   "cell_type": "code",
   "execution_count": null,
   "metadata": {},
   "outputs": [],
   "source": [
    "plt.plot(dataInterp['time'], mycosinus(dataInterp['time'], *bestValsX), 'x')\n",
    "plt.plot(dataInterp['time'], dataInterp['headk'], 'o')\n",
    "plt.show()"
   ]
  },
  {
   "cell_type": "code",
   "execution_count": null,
   "metadata": {},
   "outputs": [],
   "source": [
    "MSEinterp = np.mean(np.square(dataInterp['headk'] - mycosinus(dataInterp['time'], *bestValsX)))\n",
    "MSEqual8 = np.mean(np.square(dataQual8['headk'] - mycosinus(dataQual8['time'], *bestValsX)))\n",
    "MSEbad = np.mean(np.square(dataBad['headk'] - mycosinus(dataBad['time'], *bestValsX)))\n",
    "\n",
    "print('MSEinterp: ', MSEinterp)\n",
    "print('MSEqual8: ', MSEqual8)\n",
    "print('MSEbad: ', MSEbad)"
   ]
  },
  {
   "cell_type": "code",
   "execution_count": null,
   "metadata": {},
   "outputs": [],
   "source": [
    "np.where(data['quality'] == 5)"
   ]
  },
  {
   "cell_type": "code",
   "execution_count": null,
   "metadata": {},
   "outputs": [],
   "source": []
  },
  {
   "cell_type": "code",
   "execution_count": null,
   "metadata": {},
   "outputs": [],
   "source": []
  }
 ],
 "metadata": {
  "kernelspec": {
   "display_name": "Python 3",
   "language": "python",
   "name": "python3"
  },
  "language_info": {
   "codemirror_mode": {
    "name": "ipython",
    "version": 3
   },
   "file_extension": ".py",
   "mimetype": "text/x-python",
   "name": "python",
   "nbconvert_exporter": "python",
   "pygments_lexer": "ipython3",
   "version": "3.5.4"
  }
 },
 "nbformat": 4,
 "nbformat_minor": 2
}
