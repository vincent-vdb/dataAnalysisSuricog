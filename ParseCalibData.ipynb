{
 "cells": [
  {
   "cell_type": "code",
   "execution_count": null,
   "metadata": {},
   "outputs": [],
   "source": [
    "import xml.etree.ElementTree\n",
    "import numpy as np\n"
   ]
  },
  {
   "cell_type": "code",
   "execution_count": null,
   "metadata": {},
   "outputs": [],
   "source": [
    "file = xml.etree.ElementTree.parse('E:\\dev\\data\\data\\calib\\Calib_20171117_16400.replay').getroot()"
   ]
  },
  {
   "cell_type": "code",
   "execution_count": null,
   "metadata": {},
   "outputs": [],
   "source": [
    "file[3][0][0][0]"
   ]
  },
  {
   "cell_type": "code",
   "execution_count": null,
   "metadata": {},
   "outputs": [],
   "source": [
    "def readHTxy(file) :\n",
    "    xout = []\n",
    "    yout = []\n",
    "    zout = []\n",
    "    \n",
    "    datas = file.find('RawGazedatas')\n",
    "    print(datas)\n",
    "    for data in datas.findall('RawGazedata'):\n",
    "        htalgo = data.find('HTAlgoOutput')\n",
    "        dof = htalgo.find('Dof')\n",
    "        pos3D = dof.find('Position3D')\n",
    "        x = pos3D.find('f_x').text\n",
    "        y = pos3D.find('f_y').text\n",
    "        z = pos3D.find('f_z').text\n",
    "\n",
    "        #print(x, y, z)\n",
    "        \n",
    "        xout.append(x)\n",
    "        yout.append(y)\n",
    "        zout.append(z)\n",
    "\n",
    "    return np.asarray(xout, dtype=float), np.asarray(yout, dtype=float), np.asarray(zout, dtype=float)"
   ]
  },
  {
   "cell_type": "code",
   "execution_count": null,
   "metadata": {},
   "outputs": [],
   "source": [
    "x,y,z = readHTxy(file)"
   ]
  },
  {
   "cell_type": "code",
   "execution_count": null,
   "metadata": {},
   "outputs": [],
   "source": [
    "def readETglints(file):\n",
    "    x1out = []\n",
    "    y1out = []\n",
    "    z1out = []\n",
    "    \n",
    "    x2out = []\n",
    "    y2out = []\n",
    "    z2out = []\n",
    "    \n",
    "\"\"\"    \n",
    "    datas = file.find('RawGazedatas')\n",
    "    print(datas)\n",
    "    for data in datas.findall('RawGazedata'):\n",
    "        etAlgoOutputs = data.find('ETAlgoOutputs')\n",
    "        etAlgoOutput = etAlgoOutputs.find('ETAlgoOutput')\n",
    "        posGlints = etAlgoOutput.find('PosGlints')\n",
    "        \n",
    "        for glints in posGlints.findall('PosGlint'):\n",
    "            \n",
    "        \n",
    "        dof = etAlgoOutput.find('Dof')\n",
    "        pos3D = dof.find('Position3D')\n",
    "        x = pos3D.find('f_x').text\n",
    "        y = pos3D.find('f_y').text\n",
    "        z = pos3D.find('f_z').text\n",
    "\n",
    "        x1out.append(x)\n",
    "        y1out.append(x)\n",
    "        z1out.append(x)\n",
    "\n",
    "        x2out.append(x)\n",
    "        y2out.append(x)\n",
    "        z2out.append(x)     \n",
    "\"\"\"\n",
    "        return x, y, z"
   ]
  },
  {
   "cell_type": "code",
   "execution_count": null,
   "metadata": {},
   "outputs": [],
   "source": [
    "def readETellipse(file):\n",
    "    rminout = []\n",
    "    rmaxout = []\n",
    "    phiout = []\n",
    "    \n",
    "    xout = []\n",
    "    yout = []\n",
    "    zout = []\n",
    "    \n",
    "    \n",
    "    datas = file.find('RawGazedatas')\n",
    "    print(datas)\n",
    "    for data in datas.findall('RawGazedata'):\n",
    "        etAlgoOutputs = data.find('ETAlgoOutputs')\n",
    "        etAlgoOutput = etAlgoOutputs.find('ETAlgoOutput')\n",
    "        ellipse = etAlgoOutput.find('PupilEllipse')\n",
    "        \n",
    "        rmin = ellipse.find('f_rmin').text\n",
    "        rmax = ellipse.find('f_rmax').text\n",
    "        phi = ellipse.find('f_phi').text\n",
    "\n",
    "        center = ellipse.find('Center')\n",
    "        x = center.find('f_x').text\n",
    "        y = center.find('f_y').text\n",
    "        z = center.find('f_z').text\n",
    "\n",
    "        rminout.append(rmin)\n",
    "        rmaxout.append(rmax)\n",
    "        phiout.append(phi)\n",
    "\n",
    "        xout.append(x)\n",
    "        yout.append(y)\n",
    "        zout.append(z)\n",
    "    \n",
    "    return np.asarray(xout, dtype=float), np.asarray(yout, dtype=float), np.asarray(zout, dtype=float), np.asarray(rminout, dtype=float), np.asarray(rmaxout, dtype=float), np.asarray(phiout, dtype=float)"
   ]
  },
  {
   "cell_type": "code",
   "execution_count": null,
   "metadata": {},
   "outputs": [],
   "source": [
    "x,y,z,rmin,rmax,phi = readETellipse(file)\n",
    "print(np.mean(x))\n",
    "print(np.mean(y))\n",
    "print(np.mean(z))\n",
    "print(np.mean(rmin))\n",
    "print(np.mean(rmax))\n",
    "print(np.mean(phi))"
   ]
  },
  {
   "cell_type": "code",
   "execution_count": null,
   "metadata": {},
   "outputs": [],
   "source": []
  }
 ],
 "metadata": {
  "kernelspec": {
   "display_name": "Python 3",
   "language": "python",
   "name": "python3"
  },
  "language_info": {
   "codemirror_mode": {
    "name": "ipython",
    "version": 3
   },
   "file_extension": ".py",
   "mimetype": "text/x-python",
   "name": "python",
   "nbconvert_exporter": "python",
   "pygments_lexer": "ipython3",
   "version": "3.5.4"
  }
 },
 "nbformat": 4,
 "nbformat_minor": 2
}
