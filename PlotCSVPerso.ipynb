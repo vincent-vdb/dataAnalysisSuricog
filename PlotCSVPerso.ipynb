{
 "cells": [
  {
   "cell_type": "code",
   "execution_count": null,
   "metadata": {},
   "outputs": [],
   "source": [
    "import pandas as pd\n",
    "import numpy as np\n",
    "import matplotlib.pyplot as plt\n",
    "from mpl_toolkits.mplot3d import Axes3D\n",
    "from sklearn import linear_model"
   ]
  },
  {
   "cell_type": "code",
   "execution_count": null,
   "metadata": {},
   "outputs": [],
   "source": [
    "def euclidDist(x1, x2, y1, y2):\n",
    "    return np.sqrt(np.square(x2-x1) + np.square(y2-y1))"
   ]
  },
  {
   "cell_type": "code",
   "execution_count": null,
   "metadata": {},
   "outputs": [],
   "source": [
    "def linearModel(data):\n",
    "    Xtrain1 = data['outputEvalNopolX'].values.reshape(data['outputEvalNopolX'].values.shape[0],1)\n",
    "    Xtrain2 = data['outputEvalNopolY'].values.reshape(data['outputEvalNopolY'].values.shape[0],1)\n",
    "    Ones = np.ones(Xtrain1.shape)\n",
    "    Xtrain = np.concatenate((Ones, Xtrain1, Xtrain2), axis=1)\n",
    "    Ytrain =  data['targetX'].values\n",
    "    \n",
    "    reg = linear_model.Ridge (alpha = 0.1)\n",
    "    reg.fit(Xtrain, Ytrain)\n",
    "    print(\"coeff: \", reg.coef_)\n",
    "    Ypredict = reg.predict(Xtrain)\n",
    "    print(\"MSE: \",np.sum(np.square(Ypredict-Ytrain))/Ytrain.shape[0])\n",
    "    \n",
    "    return reg"
   ]
  },
  {
   "cell_type": "code",
   "execution_count": null,
   "metadata": {},
   "outputs": [],
   "source": [
    "def poly2Model(data):\n",
    "    Xtrain1 = data['outputEvalNopolX'].values.reshape(data['outputEvalNopolX'].values.shape[0],1)\n",
    "    Xtrain2 = data['outputEvalNopolY'].values.reshape(data['outputEvalNopolY'].values.shape[0],1)\n",
    "    Ones = np.ones(Xtrain1.shape)\n",
    "\n",
    "    Xtrain = np.concatenate((Ones, Xtrain1, Xtrain2, Xtrain1*Xtrain1, Xtrain2*Xtrain2, Xtrain1*Xtrain2), axis=1)\n",
    "    Ytrain =  data['targetX'].values\n",
    "    \n",
    "    reg = linear_model.Ridge (alpha = 0.1)\n",
    "    reg.fit(Xtrain, Ytrain)\n",
    "    print(\"coeff: \", reg.coef_)\n",
    "    Ypredict = reg.predict(Xtrain)\n",
    "    print(\"MSE: \",np.sum(np.square(Ypredict-Ytrain))/Ytrain.shape[0])\n",
    "    \n",
    "    return reg"
   ]
  },
  {
   "cell_type": "code",
   "execution_count": null,
   "metadata": {},
   "outputs": [],
   "source": [
    "def poly22model(data):\n",
    "    Xtrain1 = data['outputEvalNopolX'].values.reshape(data['outputEvalNopolX'].values.shape[0],1)\n",
    "    Xtrain2 = data['outputEvalNopolY'].values.reshape(data['outputEvalNopolY'].values.shape[0],1)\n",
    "    Ones = np.ones(Xtrain1.shape)\n",
    "\n",
    "    Xtrain = np.concatenate((Ones, Xtrain1, Xtrain2, Xtrain1*Xtrain1, Xtrain2*Xtrain2, Xtrain1*Xtrain2, 1./Xtrain1, 1./Xtrain2, 1./Xtrain1/Xtrain1, 1./Xtrain2/Xtrain2, 1./Xtrain1/Xtrain2), axis=1)\n",
    "    Ytrain =  data['targetX'].values\n",
    "    \n",
    "    reg = linear_model.Ridge (alpha = 0.1)\n",
    "    reg.fit(Xtrain, Ytrain)\n",
    "    print(\"coeff: \", reg.coef_)\n",
    "    Ypredict = reg.predict(Xtrain)\n",
    "    print(\"MSE: \",np.sum(np.square(Ypredict-Ytrain))/Ytrain.shape[0])\n",
    "    \n",
    "    return reg"
   ]
  },
  {
   "cell_type": "code",
   "execution_count": null,
   "metadata": {},
   "outputs": [],
   "source": [
    "def polyNmodel(data, n):\n",
    "    Xtrain1 = data['outputEvalNopolX'].values.reshape(data['outputEvalNopolX'].values.shape[0],1)\n",
    "    Xtrain2 = data['outputEvalNopolY'].values.reshape(data['outputEvalNopolY'].values.shape[0],1)\n",
    "\n",
    "    Xtrain1 = (Xtrain1-np.mean(Xtrain1))/np.std(Xtrain1)\n",
    "    Xtrain2 = (Xtrain2-np.mean(Xtrain2))/np.std(Xtrain2)\n",
    "\n",
    "    \n",
    "    Ones = np.ones(Xtrain1.shape)\n",
    "\n",
    "    Xtrain = Ones\n",
    "    Ytrain =  data['targetX'].values\n",
    "    \n",
    "    for i in range(0,n+1):\n",
    "        for j in range(0,n+1):\n",
    "            if((i+j)<=n):\n",
    "                tmp = np.power(Xtrain1, i)*np.power(Xtrain2, j)\n",
    "                Xtrain = np.concatenate((Xtrain, tmp), axis=1)\n",
    "    \n",
    "    reg = linear_model.Ridge (alpha = 0.001)\n",
    "    reg.fit(Xtrain, Ytrain)\n",
    "    print(\"coeff: \", reg.coef_)\n",
    "    Ypredict = reg.predict(Xtrain)\n",
    "    print(\"MSE: \",np.sum(np.square(Ypredict-Ytrain))/Ytrain.shape[0])\n",
    "    \n",
    "    return reg"
   ]
  },
  {
   "cell_type": "code",
   "execution_count": null,
   "metadata": {},
   "outputs": [],
   "source": [
    "#dataRaw = pd.read_csv('calibTestOutputVincent_20170213_16h58.txt')\n",
    "#dataRaw = pd.read_csv('globalCalib.txt')\n",
    "dataRaw = pd.read_csv('calibTestOutputVincent_20180219_12h05.txt')\n",
    "\n",
    "len(dataRaw)"
   ]
  },
  {
   "cell_type": "code",
   "execution_count": null,
   "metadata": {},
   "outputs": [],
   "source": [
    "dataRaw[:10]"
   ]
  },
  {
   "cell_type": "code",
   "execution_count": null,
   "metadata": {},
   "outputs": [],
   "source": [
    "data = dataRaw[5:]"
   ]
  },
  {
   "cell_type": "code",
   "execution_count": null,
   "metadata": {
    "scrolled": true
   },
   "outputs": [],
   "source": [
    "%matplotlib inline\n",
    "plt.plot(data['outputEvalX'], data['outputEvalY'], 'o')\n",
    "plt.show()"
   ]
  },
  {
   "cell_type": "code",
   "execution_count": null,
   "metadata": {},
   "outputs": [],
   "source": [
    "plt.plot(data['outputApplyX'], data['outputApplyY'], 'o')\n",
    "plt.show()"
   ]
  },
  {
   "cell_type": "code",
   "execution_count": null,
   "metadata": {},
   "outputs": [],
   "source": [
    "plt.plot(data['outputEvalNopolX'], data['outputEvalNopolY'],'o')\n",
    "plt.show()"
   ]
  },
  {
   "cell_type": "code",
   "execution_count": null,
   "metadata": {},
   "outputs": [],
   "source": [
    "plt.plot(data['targetX'], data['targetY'], 'o')\n",
    "#plt.plot(data['outputEvalNopolX'], data['outputEvalNopolY'],'x')\n",
    "plt.show()"
   ]
  },
  {
   "cell_type": "code",
   "execution_count": null,
   "metadata": {},
   "outputs": [],
   "source": [
    "MSErigidx = np.mean(np.square(data['outputApplyX']-data['targetX']))\n",
    "MSErigidy = np.mean(np.square(data['outputApplyY']-data['targetY']))\n",
    "MSEpolyx = np.mean(np.square(data['outputEvalX']-data['targetX']))\n",
    "MSEpolyy = np.mean(np.square(data['outputEvalY']-data['targetY']))\n",
    "\n",
    "print('MSE on X rigig transfo fit: ', MSErigidx)\n",
    "print('MSE on X poly fit: ', MSEpolyx)\n",
    "\n",
    "print('MSE on y rigig transfo fit: ', MSErigidy)\n",
    "print('MSE on y poly fit: ', MSEpolyy)"
   ]
  },
  {
   "cell_type": "code",
   "execution_count": null,
   "metadata": {},
   "outputs": [],
   "source": [
    "distNoPol = euclidDist(data['targetX'], data['outputEvalNopolX'], data['targetY'], data['outputEvalNopolY'])\n",
    "distPol = euclidDist(data['targetX'], data['outputEvalX'], data['targetY'], data['outputEvalY'])"
   ]
  },
  {
   "cell_type": "code",
   "execution_count": null,
   "metadata": {},
   "outputs": [],
   "source": [
    "plt.hist(distNoPol,20)\n",
    "plt.hist(distPol,20)\n",
    "plt.show()"
   ]
  },
  {
   "cell_type": "code",
   "execution_count": null,
   "metadata": {},
   "outputs": [],
   "source": [
    "distX = data['targetX']-data['outputEvalNopolX']\n",
    "distY = data['targetY']-data['outputEvalNopolY']\n",
    "print('distX mean: ', distX.mean(), ' distX stdev: ', distX.std())\n",
    "print('distY mean: ', distY.mean(), ' distY stdev: ', distY.std())\n",
    "plt.hist(distX,20, histtype='step')\n",
    "plt.hist(distY,20, histtype='step')\n",
    "plt.show()"
   ]
  },
  {
   "cell_type": "code",
   "execution_count": null,
   "metadata": {},
   "outputs": [],
   "source": [
    "plt.hist(data['outputEvalNopolX'])\n",
    "plt.show()"
   ]
  },
  {
   "cell_type": "code",
   "execution_count": null,
   "metadata": {},
   "outputs": [],
   "source": [
    "%matplotlib notebook\n",
    "fig = plt.figure()\n",
    "ax = fig.add_subplot(111, projection='3d')\n",
    "X1 = (data['outputEvalNopolX'] - np.mean(data['outputEvalNopolX']))/np.std(data['outputEvalNopolX'])\n",
    "X2 = (data['outputEvalNopolY'] - np.mean(data['outputEvalNopolY']))/np.std(data['outputEvalNopolY'])\n",
    "\n",
    "#ax.scatter(data['outputEvalNopolX'], data['outputEvalNopolY'], data['targetX'], c='r', marker='o')\n",
    "ax.scatter(X1, X2, data['targetX'], c='r', marker='o')\n",
    "ax.set_xlabel('outputEvalNopolX')\n",
    "ax.set_ylabel('outputEvalNopolY')\n",
    "ax.set_zlabel('target X')\n",
    "plt.show()"
   ]
  },
  {
   "cell_type": "code",
   "execution_count": null,
   "metadata": {},
   "outputs": [],
   "source": [
    "fig = plt.figure()\n",
    "ax = fig.add_subplot(111, projection='3d')\n",
    "ax.scatter(data['outputEvalNopolX'], data['outputEvalNopolY'], data['targetY'], c='r', marker='x')\n",
    "ax.set_xlabel('outputEvalNopolX')\n",
    "ax.set_ylabel('outputEvalNopolY')\n",
    "ax.set_zlabel('target Y')\n",
    "plt.show()"
   ]
  },
  {
   "cell_type": "code",
   "execution_count": null,
   "metadata": {},
   "outputs": [],
   "source": [
    "Xtrain1 = data['outputEvalNopolX'].values.reshape(data['outputEvalNopolX'].values.shape[0],1)\n",
    "Xtrain2 = data['outputEvalNopolY'].values.reshape(data['outputEvalNopolY'].values.shape[0],1)\n",
    "print(Xtrain1.shape)\n",
    "print(Xtrain2.shape)\n",
    "Xtrain = np.concatenate((Xtrain1, Xtrain2), axis=1)\n",
    "print(Xtrain.shape)\n",
    "Ytrain =  data['targetX'].values"
   ]
  },
  {
   "cell_type": "code",
   "execution_count": null,
   "metadata": {
    "scrolled": true
   },
   "outputs": [],
   "source": [
    "linearModel(data)"
   ]
  },
  {
   "cell_type": "code",
   "execution_count": null,
   "metadata": {},
   "outputs": [],
   "source": [
    "poly2Model(data)"
   ]
  },
  {
   "cell_type": "code",
   "execution_count": null,
   "metadata": {},
   "outputs": [],
   "source": [
    "poly22model(data)"
   ]
  },
  {
   "cell_type": "code",
   "execution_count": null,
   "metadata": {},
   "outputs": [],
   "source": [
    "polyNmodel(data, 5)"
   ]
  },
  {
   "cell_type": "code",
   "execution_count": null,
   "metadata": {},
   "outputs": [],
   "source": [
    "from sklearn.neural_network import MLPRegressor\n",
    "\n",
    "def mlpModel(data):\n",
    "    Xtrain1 = data['outputEvalNopolX'].values.reshape(data['outputEvalNopolX'].values.shape[0],1)\n",
    "    Xtrain2 = data['outputEvalNopolY'].values.reshape(data['outputEvalNopolY'].values.shape[0],1)\n",
    "    \n",
    "#    Xtrain1 = (Xtrain1-np.mean(Xtrain1))/np.std(Xtrain1)\n",
    "#    Xtrain2 = (Xtrain2-np.mean(Xtrain2))/np.std(Xtrain2)\n",
    "\n",
    "    Xtrain = np.concatenate((Xtrain1, Xtrain2), axis=1)\n",
    "    \n",
    "    Ytrain =  data['targetX'].values\n",
    "\n",
    "    mlpreg = MLPRegressor(hidden_layer_sizes=(10, 10, 10, 10, 10, 10), batch_size=Xtrain1.shape[0], alpha=0, learning_rate_init=0.0001, max_iter=10000)\n",
    "    mlpreg.fit(Xtrain, Ytrain)\n",
    "\n",
    "    Ypredict = mlpreg.predict(Xtrain)\n",
    "    print(\"MSE: \",np.sum(np.square(Ypredict-Ytrain))/Ytrain.shape[0])\n",
    "\n",
    "    "
   ]
  },
  {
   "cell_type": "code",
   "execution_count": null,
   "metadata": {},
   "outputs": [],
   "source": [
    "mlpModel(data)"
   ]
  },
  {
   "cell_type": "code",
   "execution_count": null,
   "metadata": {},
   "outputs": [],
   "source": []
  }
 ],
 "metadata": {
  "kernelspec": {
   "display_name": "Python 3",
   "language": "python",
   "name": "python3"
  },
  "language_info": {
   "codemirror_mode": {
    "name": "ipython",
    "version": 3
   },
   "file_extension": ".py",
   "mimetype": "text/x-python",
   "name": "python",
   "nbconvert_exporter": "python",
   "pygments_lexer": "ipython3",
   "version": "3.5.4"
  }
 },
 "nbformat": 4,
 "nbformat_minor": 2
}
